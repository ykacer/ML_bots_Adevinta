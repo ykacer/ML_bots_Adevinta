{
 "cells": [
  {
   "cell_type": "markdown",
   "metadata": {},
   "source": [
    "# Fake users classification"
   ]
  },
  {
   "cell_type": "markdown",
   "metadata": {},
   "source": [
    "This notebook presents binary classification for Fake/NotFake users.\n",
    "\n",
    "In the Feature Engineering part, we will traduce the 3 insights provided in the .pdf.\n",
    "\n",
    "The Feature Engineering leverages Scikit-learn Transformers for a possible future use of Scikit pipelines."
   ]
  },
  {
   "cell_type": "markdown",
   "metadata": {},
   "source": [
    "INSTALL"
   ]
  },
  {
   "cell_type": "code",
   "execution_count": 2,
   "metadata": {},
   "outputs": [
    {
     "name": "stdout",
     "output_type": "stream",
     "text": [
      "\u001b[33mWARNING: The directory '/root/.cache/pip' or its parent directory is not owned or is not writable by the current user. The cache has been disabled. Check the permissions and owner of that directory. If executing pip with sudo, you may want sudo's -H flag.\u001b[0m\n",
      "Requirement already satisfied: lightgbm in /opt/conda/lib/python3.7/site-packages (3.3.0)\n",
      "Requirement already satisfied: wheel in /opt/conda/lib/python3.7/site-packages (from lightgbm) (0.34.2)\n",
      "Requirement already satisfied: scikit-learn!=0.22.0 in /opt/conda/lib/python3.7/site-packages (from lightgbm) (0.22.1)\n",
      "Requirement already satisfied: scipy in /opt/conda/lib/python3.7/site-packages (from lightgbm) (1.4.1)\n",
      "Requirement already satisfied: numpy in /opt/conda/lib/python3.7/site-packages (from lightgbm) (1.18.1)\n",
      "Requirement already satisfied: joblib>=0.11 in /opt/conda/lib/python3.7/site-packages (from scikit-learn!=0.22.0->lightgbm) (0.14.1)\n"
     ]
    }
   ],
   "source": [
    "!pip install lightgbm"
   ]
  },
  {
   "cell_type": "markdown",
   "metadata": {},
   "source": [
    "IMPORTS"
   ]
  },
  {
   "cell_type": "code",
   "execution_count": 3,
   "metadata": {
    "ExecuteTime": {
     "end_time": "2021-10-18T09:11:34.141504Z",
     "start_time": "2021-10-18T09:11:33.651067Z"
    }
   },
   "outputs": [],
   "source": [
    "import os\n",
    "import numpy as np\n",
    "import matplotlib.pyplot as plt\n",
    "import pandas as pd\n",
    "from joblib import dump, load"
   ]
  },
  {
   "cell_type": "code",
   "execution_count": 4,
   "metadata": {
    "ExecuteTime": {
     "end_time": "2021-10-18T09:11:34.791372Z",
     "start_time": "2021-10-18T09:11:34.143259Z"
    }
   },
   "outputs": [],
   "source": [
    "from sklearn.base import BaseEstimator, TransformerMixin\n",
    "from sklearn.preprocessing import OneHotEncoder\n",
    "from sklearn.model_selection import train_test_split, ParameterSampler, StratifiedKFold\n",
    "from lightgbm import LGBMClassifier\n",
    "from sklearn.metrics import accuracy_score"
   ]
  },
  {
   "cell_type": "markdown",
   "metadata": {},
   "source": [
    "# Exploration"
   ]
  },
  {
   "cell_type": "code",
   "execution_count": 5,
   "metadata": {
    "ExecuteTime": {
     "end_time": "2021-10-18T09:11:34.870770Z",
     "start_time": "2021-10-18T09:11:34.793690Z"
    }
   },
   "outputs": [],
   "source": [
    "df = pd.read_csv('fake_users.csv', index_col=0)"
   ]
  },
  {
   "cell_type": "markdown",
   "metadata": {},
   "source": [
    "## Basic"
   ]
  },
  {
   "cell_type": "code",
   "execution_count": 6,
   "metadata": {
    "ExecuteTime": {
     "end_time": "2021-10-18T09:11:34.883610Z",
     "start_time": "2021-10-18T09:11:34.872769Z"
    }
   },
   "outputs": [
    {
     "data": {
      "text/html": [
       "<div>\n",
       "<style scoped>\n",
       "    .dataframe tbody tr th:only-of-type {\n",
       "        vertical-align: middle;\n",
       "    }\n",
       "\n",
       "    .dataframe tbody tr th {\n",
       "        vertical-align: top;\n",
       "    }\n",
       "\n",
       "    .dataframe thead th {\n",
       "        text-align: right;\n",
       "    }\n",
       "</style>\n",
       "<table border=\"1\" class=\"dataframe\">\n",
       "  <thead>\n",
       "    <tr style=\"text-align: right;\">\n",
       "      <th></th>\n",
       "      <th>UserId</th>\n",
       "      <th>Event</th>\n",
       "      <th>Category</th>\n",
       "      <th>Fake</th>\n",
       "    </tr>\n",
       "  </thead>\n",
       "  <tbody>\n",
       "    <tr>\n",
       "      <th>0</th>\n",
       "      <td>F7A7BF3761</td>\n",
       "      <td>click_carrousel</td>\n",
       "      <td>Phone</td>\n",
       "      <td>0</td>\n",
       "    </tr>\n",
       "    <tr>\n",
       "      <th>1</th>\n",
       "      <td>BA8F7A71E6</td>\n",
       "      <td>send_sms</td>\n",
       "      <td>Motor</td>\n",
       "      <td>0</td>\n",
       "    </tr>\n",
       "    <tr>\n",
       "      <th>2</th>\n",
       "      <td>21C64F22FC</td>\n",
       "      <td>send_email</td>\n",
       "      <td>Jobs</td>\n",
       "      <td>0</td>\n",
       "    </tr>\n",
       "    <tr>\n",
       "      <th>3</th>\n",
       "      <td>F9E0306603</td>\n",
       "      <td>send_sms</td>\n",
       "      <td>Jobs</td>\n",
       "      <td>0</td>\n",
       "    </tr>\n",
       "    <tr>\n",
       "      <th>4</th>\n",
       "      <td>1B2143BACC</td>\n",
       "      <td>click_ad</td>\n",
       "      <td>Phone</td>\n",
       "      <td>0</td>\n",
       "    </tr>\n",
       "  </tbody>\n",
       "</table>\n",
       "</div>"
      ],
      "text/plain": [
       "       UserId            Event Category  Fake\n",
       "0  F7A7BF3761  click_carrousel    Phone     0\n",
       "1  BA8F7A71E6         send_sms    Motor     0\n",
       "2  21C64F22FC       send_email     Jobs     0\n",
       "3  F9E0306603         send_sms     Jobs     0\n",
       "4  1B2143BACC         click_ad    Phone     0"
      ]
     },
     "execution_count": 6,
     "metadata": {},
     "output_type": "execute_result"
    }
   ],
   "source": [
    "df.head()"
   ]
  },
  {
   "cell_type": "code",
   "execution_count": 7,
   "metadata": {
    "ExecuteTime": {
     "end_time": "2021-10-18T09:11:34.889523Z",
     "start_time": "2021-10-18T09:11:34.885152Z"
    }
   },
   "outputs": [
    {
     "name": "stdout",
     "output_type": "stream",
     "text": [
      "(100473, 4)\n"
     ]
    }
   ],
   "source": [
    "print(df.shape)"
   ]
  },
  {
   "cell_type": "markdown",
   "metadata": {},
   "source": [
    "## Missing values"
   ]
  },
  {
   "cell_type": "code",
   "execution_count": 8,
   "metadata": {
    "ExecuteTime": {
     "end_time": "2021-10-18T09:11:34.909514Z",
     "start_time": "2021-10-18T09:11:34.891012Z"
    },
    "scrolled": true
   },
   "outputs": [
    {
     "data": {
      "text/html": [
       "<div>\n",
       "<style scoped>\n",
       "    .dataframe tbody tr th:only-of-type {\n",
       "        vertical-align: middle;\n",
       "    }\n",
       "\n",
       "    .dataframe tbody tr th {\n",
       "        vertical-align: top;\n",
       "    }\n",
       "\n",
       "    .dataframe thead th {\n",
       "        text-align: right;\n",
       "    }\n",
       "</style>\n",
       "<table border=\"1\" class=\"dataframe\">\n",
       "  <thead>\n",
       "    <tr style=\"text-align: right;\">\n",
       "      <th></th>\n",
       "      <th>UserId</th>\n",
       "      <th>Event</th>\n",
       "      <th>Category</th>\n",
       "      <th>Fake</th>\n",
       "    </tr>\n",
       "  </thead>\n",
       "  <tbody>\n",
       "  </tbody>\n",
       "</table>\n",
       "</div>"
      ],
      "text/plain": [
       "Empty DataFrame\n",
       "Columns: [UserId, Event, Category, Fake]\n",
       "Index: []"
      ]
     },
     "execution_count": 8,
     "metadata": {},
     "output_type": "execute_result"
    }
   ],
   "source": [
    "df[df.isnull().any(axis=1)]"
   ]
  },
  {
   "cell_type": "markdown",
   "metadata": {},
   "source": [
    "## categoricals"
   ]
  },
  {
   "cell_type": "code",
   "execution_count": 9,
   "metadata": {
    "ExecuteTime": {
     "end_time": "2021-10-18T09:11:34.942961Z",
     "start_time": "2021-10-18T09:11:34.911269Z"
    }
   },
   "outputs": [
    {
     "data": {
      "text/plain": [
       "UserId      5300\n",
       "Event          5\n",
       "Category       6\n",
       "Fake           2\n",
       "dtype: int64"
      ]
     },
     "execution_count": 9,
     "metadata": {},
     "output_type": "execute_result"
    }
   ],
   "source": [
    "df.nunique()"
   ]
  },
  {
   "cell_type": "code",
   "execution_count": 10,
   "metadata": {
    "ExecuteTime": {
     "end_time": "2021-10-18T09:11:35.274204Z",
     "start_time": "2021-10-18T09:11:34.945265Z"
    }
   },
   "outputs": [
    {
     "data": {
      "image/png": "[encoded data removed]",
      "text/plain": [
       "<Figure size 432x288 with 1 Axes>"
      ]
     },
     "metadata": {
      "needs_background": "light"
     },
     "output_type": "display_data"
    },
    {
     "data": {
      "image/png": "[encoded data removed]",
      "text/plain": [
       "<Figure size 432x288 with 1 Axes>"
      ]
     },
     "metadata": {
      "needs_background": "light"
     },
     "output_type": "display_data"
    }
   ],
   "source": [
    "for cat_col in [\"Event\", \"Category\"]:\n",
    "    plt.figure()\n",
    "    df[cat_col].hist()"
   ]
  },
  {
   "cell_type": "markdown",
   "metadata": {},
   "source": [
    "## target"
   ]
  },
  {
   "cell_type": "code",
   "execution_count": 11,
   "metadata": {
    "ExecuteTime": {
     "end_time": "2021-10-18T09:11:35.429905Z",
     "start_time": "2021-10-18T09:11:35.276282Z"
    },
    "scrolled": true
   },
   "outputs": [
    {
     "data": {
      "text/plain": [
       "<matplotlib.axes._subplots.AxesSubplot at 0x7f9b891f7890>"
      ]
     },
     "execution_count": 11,
     "metadata": {},
     "output_type": "execute_result"
    },
    {
     "data": {
      "image/png": "[encoded data removed]",
      "text/plain": [
       "<Figure size 432x288 with 1 Axes>"
      ]
     },
     "metadata": {
      "needs_background": "light"
     },
     "output_type": "display_data"
    }
   ],
   "source": [
    "plt.figure()\n",
    "df['Fake'].hist()"
   ]
  },
  {
   "cell_type": "markdown",
   "metadata": {},
   "source": [
    "## OneHotEncoding"
   ]
  },
  {
   "cell_type": "markdown",
   "metadata": {},
   "source": [
    "Here, we will take into account `Event` and `Category` as possible categorical variables.\n",
    "\n",
    "As we have not a relation order inside the two categorical features, we could use _One Hot Encoding_ strategy (without any risk to explode columns number as we have few modalities for each, `5` and `6` respectively)"
   ]
  },
  {
   "cell_type": "code",
   "execution_count": 12,
   "metadata": {
    "ExecuteTime": {
     "end_time": "2021-10-18T09:11:35.510228Z",
     "start_time": "2021-10-18T09:11:35.431580Z"
    }
   },
   "outputs": [
    {
     "data": {
      "text/html": [
       "<div>\n",
       "<style scoped>\n",
       "    .dataframe tbody tr th:only-of-type {\n",
       "        vertical-align: middle;\n",
       "    }\n",
       "\n",
       "    .dataframe tbody tr th {\n",
       "        vertical-align: top;\n",
       "    }\n",
       "\n",
       "    .dataframe thead th {\n",
       "        text-align: right;\n",
       "    }\n",
       "</style>\n",
       "<table border=\"1\" class=\"dataframe\">\n",
       "  <thead>\n",
       "    <tr style=\"text-align: right;\">\n",
       "      <th></th>\n",
       "      <th>x0_click_ad</th>\n",
       "      <th>x0_click_carrousel</th>\n",
       "      <th>x0_phone_call</th>\n",
       "      <th>x0_send_email</th>\n",
       "      <th>x0_send_sms</th>\n",
       "      <th>x1_Holidays</th>\n",
       "      <th>x1_Jobs</th>\n",
       "      <th>x1_Leisure</th>\n",
       "      <th>x1_Motor</th>\n",
       "      <th>x1_Phone</th>\n",
       "      <th>x1_Real_State</th>\n",
       "    </tr>\n",
       "  </thead>\n",
       "  <tbody>\n",
       "    <tr>\n",
       "      <th>0</th>\n",
       "      <td>0.0</td>\n",
       "      <td>1.0</td>\n",
       "      <td>0.0</td>\n",
       "      <td>0.0</td>\n",
       "      <td>0.0</td>\n",
       "      <td>0.0</td>\n",
       "      <td>0.0</td>\n",
       "      <td>0.0</td>\n",
       "      <td>0.0</td>\n",
       "      <td>1.0</td>\n",
       "      <td>0.0</td>\n",
       "    </tr>\n",
       "    <tr>\n",
       "      <th>1</th>\n",
       "      <td>0.0</td>\n",
       "      <td>0.0</td>\n",
       "      <td>0.0</td>\n",
       "      <td>0.0</td>\n",
       "      <td>1.0</td>\n",
       "      <td>0.0</td>\n",
       "      <td>0.0</td>\n",
       "      <td>0.0</td>\n",
       "      <td>1.0</td>\n",
       "      <td>0.0</td>\n",
       "      <td>0.0</td>\n",
       "    </tr>\n",
       "    <tr>\n",
       "      <th>2</th>\n",
       "      <td>0.0</td>\n",
       "      <td>0.0</td>\n",
       "      <td>0.0</td>\n",
       "      <td>1.0</td>\n",
       "      <td>0.0</td>\n",
       "      <td>0.0</td>\n",
       "      <td>1.0</td>\n",
       "      <td>0.0</td>\n",
       "      <td>0.0</td>\n",
       "      <td>0.0</td>\n",
       "      <td>0.0</td>\n",
       "    </tr>\n",
       "    <tr>\n",
       "      <th>3</th>\n",
       "      <td>0.0</td>\n",
       "      <td>0.0</td>\n",
       "      <td>0.0</td>\n",
       "      <td>0.0</td>\n",
       "      <td>1.0</td>\n",
       "      <td>0.0</td>\n",
       "      <td>1.0</td>\n",
       "      <td>0.0</td>\n",
       "      <td>0.0</td>\n",
       "      <td>0.0</td>\n",
       "      <td>0.0</td>\n",
       "    </tr>\n",
       "    <tr>\n",
       "      <th>4</th>\n",
       "      <td>1.0</td>\n",
       "      <td>0.0</td>\n",
       "      <td>0.0</td>\n",
       "      <td>0.0</td>\n",
       "      <td>0.0</td>\n",
       "      <td>0.0</td>\n",
       "      <td>0.0</td>\n",
       "      <td>0.0</td>\n",
       "      <td>0.0</td>\n",
       "      <td>1.0</td>\n",
       "      <td>0.0</td>\n",
       "    </tr>\n",
       "  </tbody>\n",
       "</table>\n",
       "</div>"
      ],
      "text/plain": [
       "   x0_click_ad  x0_click_carrousel  x0_phone_call  x0_send_email  x0_send_sms  \\\n",
       "0          0.0                 1.0            0.0            0.0          0.0   \n",
       "1          0.0                 0.0            0.0            0.0          1.0   \n",
       "2          0.0                 0.0            0.0            1.0          0.0   \n",
       "3          0.0                 0.0            0.0            0.0          1.0   \n",
       "4          1.0                 0.0            0.0            0.0          0.0   \n",
       "\n",
       "   x1_Holidays  x1_Jobs  x1_Leisure  x1_Motor  x1_Phone  x1_Real_State  \n",
       "0          0.0      0.0         0.0       0.0       1.0            0.0  \n",
       "1          0.0      0.0         0.0       1.0       0.0            0.0  \n",
       "2          0.0      1.0         0.0       0.0       0.0            0.0  \n",
       "3          0.0      1.0         0.0       0.0       0.0            0.0  \n",
       "4          0.0      0.0         0.0       0.0       1.0            0.0  "
      ]
     },
     "execution_count": 12,
     "metadata": {},
     "output_type": "execute_result"
    }
   ],
   "source": [
    "class OneHotEncoding(BaseEstimator, TransformerMixin):\n",
    "    '''\n",
    "    One-hot-encode the columns of a dataset\n",
    "\n",
    "    Attributes:\n",
    "        ohe (`sklearn.preprocessing.OneHotEncoder`): the wrapped sklearn encoder\n",
    "    '''\n",
    "    def __init__(self):\n",
    "        self.ohe = OneHotEncoder(handle_unknown='ignore')\n",
    "\n",
    "    def fit(self, X, y=None):\n",
    "        '''\n",
    "        fit the one-hot-encoder\n",
    "        \n",
    "        Args:\n",
    "            X (`pandas.DataFrame`) features dataset\n",
    "            y (list): target\n",
    "\n",
    "        Returns:\n",
    "            None\n",
    "        '''\n",
    "        self.ohe.fit(X, y)\n",
    "        return self\n",
    "\n",
    "    def transform(self, X, y=None):\n",
    "        '''\n",
    "        one hot encode a dataset\n",
    "        \n",
    "        Args:\n",
    "            X (`pandas.DataFrame`) features dataset\n",
    "            y (list): target\n",
    "\n",
    "        Returns:\n",
    "            `pd.DataFrame`: the transformed dataset\n",
    "        '''\n",
    "        X_new = pd.DataFrame(self.ohe.transform(X).todense(), columns=self.ohe.get_feature_names())\n",
    "        return X_new\n",
    "\n",
    "onehotencoder = OneHotEncoding()\n",
    "onehotencoder.fit(df[['Event', 'Category']])\n",
    "df_ohe = onehotencoder.transform(df[['Event', 'Category']])\n",
    "df_ohe.head()"
   ]
  },
  {
   "cell_type": "markdown",
   "metadata": {},
   "source": [
    "# Data Engineering"
   ]
  },
  {
   "cell_type": "markdown",
   "metadata": {},
   "source": [
    "## INSIGHT 1 : \"A bot tends to produce more clicks in an a window period of time than a real user\""
   ]
  },
  {
   "cell_type": "markdown",
   "metadata": {},
   "source": [
    "Here, we will count the number of clicks types for each user.\n",
    "\n",
    "For that, we can define a Transformer that takes the one-hot-encoded `Event` to sum-aggregate by `UserId`"
   ]
  },
  {
   "cell_type": "code",
   "execution_count": 13,
   "metadata": {
    "ExecuteTime": {
     "end_time": "2021-10-18T09:11:35.591281Z",
     "start_time": "2021-10-18T09:11:35.511886Z"
    }
   },
   "outputs": [
    {
     "data": {
      "text/html": [
       "<div>\n",
       "<style scoped>\n",
       "    .dataframe tbody tr th:only-of-type {\n",
       "        vertical-align: middle;\n",
       "    }\n",
       "\n",
       "    .dataframe tbody tr th {\n",
       "        vertical-align: top;\n",
       "    }\n",
       "\n",
       "    .dataframe thead th {\n",
       "        text-align: right;\n",
       "    }\n",
       "</style>\n",
       "<table border=\"1\" class=\"dataframe\">\n",
       "  <thead>\n",
       "    <tr style=\"text-align: right;\">\n",
       "      <th></th>\n",
       "      <th>x0_click_ad_sum</th>\n",
       "      <th>x0_click_carrousel_sum</th>\n",
       "    </tr>\n",
       "  </thead>\n",
       "  <tbody>\n",
       "    <tr>\n",
       "      <th>0</th>\n",
       "      <td>6.0</td>\n",
       "      <td>4.0</td>\n",
       "    </tr>\n",
       "    <tr>\n",
       "      <th>1</th>\n",
       "      <td>3.0</td>\n",
       "      <td>2.0</td>\n",
       "    </tr>\n",
       "    <tr>\n",
       "      <th>2</th>\n",
       "      <td>5.0</td>\n",
       "      <td>3.0</td>\n",
       "    </tr>\n",
       "    <tr>\n",
       "      <th>3</th>\n",
       "      <td>2.0</td>\n",
       "      <td>4.0</td>\n",
       "    </tr>\n",
       "    <tr>\n",
       "      <th>4</th>\n",
       "      <td>2.0</td>\n",
       "      <td>3.0</td>\n",
       "    </tr>\n",
       "  </tbody>\n",
       "</table>\n",
       "</div>"
      ],
      "text/plain": [
       "   x0_click_ad_sum  x0_click_carrousel_sum\n",
       "0              6.0                     4.0\n",
       "1              3.0                     2.0\n",
       "2              5.0                     3.0\n",
       "3              2.0                     4.0\n",
       "4              2.0                     3.0"
      ]
     },
     "execution_count": 13,
     "metadata": {},
     "output_type": "execute_result"
    }
   ],
   "source": [
    "class ColumnAggregatorByCategoryAndEvent(BaseEstimator, TransformerMixin):\n",
    "    def __init__(self, on, aggregators):\n",
    "        '''\n",
    "        Aggregate all colums of a dataframe on a predefined column \"on\" \\\n",
    "        and using various predefined classical \"aggregators\" (count, sum, nunique, ...)\n",
    "\n",
    "        Args:\n",
    "            on (str): column to aggregate on\n",
    "            aggregators (list): list gathering pandas aggregator methods to apply\n",
    "\n",
    "        Attributes:\n",
    "            on (str): column to aggregate on \n",
    "            aggregators (list): list gathering pandas aggregator methods to apply\n",
    "        '''\n",
    "        self.on = on\n",
    "        self.aggregators = aggregators\n",
    "    \n",
    "    def fit(self, X, y=None):\n",
    "        '''\n",
    "        fit the transformer\n",
    "        \n",
    "        Args:\n",
    "            X (`pandas.DataFrame`) features dataset\n",
    "            y (list): target\n",
    "\n",
    "        Returns:\n",
    "            None\n",
    "        '''\n",
    "        return self\n",
    "    \n",
    "    def transform(self, X, y=None):\n",
    "        '''\n",
    "        transform a dataset\n",
    "        \n",
    "        Args:\n",
    "            X (`pandas.DataFrame`) features dataset\n",
    "            y (list): target\n",
    "\n",
    "        Returns:\n",
    "            `pd.DataFrame`: the transformed dataset\n",
    "        '''\n",
    "        X_new = X.copy()\n",
    "        for col in X_new.columns:\n",
    "            if col in self.on:\n",
    "                continue\n",
    "            for agg in self.aggregators:\n",
    "                X_new[f\"{col}_{agg}\"] = X_new[[col] + self.on].groupby(self.on).\\\n",
    "                transform(agg)\n",
    "        for col in X.columns:\n",
    "            X_new.drop(col, axis=1, inplace=True)\n",
    "        return X_new.loc[X.index]\n",
    "\n",
    "\n",
    "\n",
    "cabcav = ColumnAggregatorByCategoryAndEvent(on=['UserId'], aggregators = ['sum'])\n",
    "clicks_cols = [col for col in df_ohe if \"click\" in col]\n",
    "X1 = cabcav.fit_transform(pd.concat([df[['UserId']], df_ohe[clicks_cols]], axis=1))\n",
    "X1.head()"
   ]
  },
  {
   "cell_type": "code",
   "execution_count": 14,
   "metadata": {
    "ExecuteTime": {
     "end_time": "2021-10-18T09:11:35.605043Z",
     "start_time": "2021-10-18T09:11:35.592917Z"
    }
   },
   "outputs": [
    {
     "data": {
      "text/plain": [
       "click_ad           6\n",
       "click_carrousel    4\n",
       "send_email         3\n",
       "phone_call         2\n",
       "send_sms           1\n",
       "Name: Event, dtype: int64"
      ]
     },
     "execution_count": 14,
     "metadata": {},
     "output_type": "execute_result"
    }
   ],
   "source": [
    "# verif that during the 5 minutes, first row (UserID=='F7A7BF3761') has :\n",
    "# * clicked 6 ads\n",
    "# * clicked 4 carrousel\n",
    "df.loc[df['UserId'] == 'F7A7BF3761', \"Event\"].value_counts()"
   ]
  },
  {
   "cell_type": "code",
   "execution_count": 15,
   "metadata": {
    "ExecuteTime": {
     "end_time": "2021-10-18T09:11:35.835454Z",
     "start_time": "2021-10-18T09:11:35.606529Z"
    }
   },
   "outputs": [
    {
     "data": {
      "text/plain": [
       "<matplotlib.axes._subplots.AxesSubplot at 0x7f9b8913ce50>"
      ]
     },
     "execution_count": 15,
     "metadata": {},
     "output_type": "execute_result"
    },
    {
     "data": {
      "image/png": "[encoded data removed]",
      "text/plain": [
       "<Figure size 432x288 with 1 Axes>"
      ]
     },
     "metadata": {
      "needs_background": "light"
     },
     "output_type": "display_data"
    }
   ],
   "source": [
    "plt.figure()\n",
    "X1.loc[df['Fake']==0, \"x0_click_ad_sum\"].rename('not Fake').plot.hist(legend='not Fake')\n",
    "X1.loc[df['Fake']==1, \"x0_click_ad_sum\"].rename('Fake').plot.hist(legend='Fake')"
   ]
  },
  {
   "cell_type": "code",
   "execution_count": 16,
   "metadata": {
    "ExecuteTime": {
     "end_time": "2021-10-18T09:11:36.069013Z",
     "start_time": "2021-10-18T09:11:35.836924Z"
    }
   },
   "outputs": [
    {
     "data": {
      "text/plain": [
       "<matplotlib.axes._subplots.AxesSubplot at 0x7f9b89278e90>"
      ]
     },
     "execution_count": 16,
     "metadata": {},
     "output_type": "execute_result"
    },
    {
     "data": {
      "image/png": "[encoded data removed]",
      "text/plain": [
       "<Figure size 432x288 with 1 Axes>"
      ]
     },
     "metadata": {
      "needs_background": "light"
     },
     "output_type": "display_data"
    }
   ],
   "source": [
    "plt.figure()\n",
    "X1.loc[df['Fake']==0, \"x0_click_carrousel_sum\"].rename('not Fake').plot.hist(legend='not Fake')\n",
    "X1.loc[df['Fake']==1, \"x0_click_carrousel_sum\"].rename('Fake').plot.hist(legend='Fake')"
   ]
  },
  {
   "cell_type": "markdown",
   "metadata": {},
   "source": [
    "Only the `click_ad` add seems to be discriminative, we can remove it"
   ]
  },
  {
   "cell_type": "code",
   "execution_count": 17,
   "metadata": {
    "ExecuteTime": {
     "end_time": "2021-10-18T09:11:36.074513Z",
     "start_time": "2021-10-18T09:11:36.070485Z"
    }
   },
   "outputs": [],
   "source": [
    "X1.drop(['x0_click_carrousel_sum'], inplace=True, axis=1)"
   ]
  },
  {
   "cell_type": "code",
   "execution_count": 18,
   "metadata": {
    "ExecuteTime": {
     "end_time": "2021-10-18T09:11:36.084594Z",
     "start_time": "2021-10-18T09:11:36.075763Z"
    }
   },
   "outputs": [
    {
     "data": {
      "text/html": [
       "<div>\n",
       "<style scoped>\n",
       "    .dataframe tbody tr th:only-of-type {\n",
       "        vertical-align: middle;\n",
       "    }\n",
       "\n",
       "    .dataframe tbody tr th {\n",
       "        vertical-align: top;\n",
       "    }\n",
       "\n",
       "    .dataframe thead th {\n",
       "        text-align: right;\n",
       "    }\n",
       "</style>\n",
       "<table border=\"1\" class=\"dataframe\">\n",
       "  <thead>\n",
       "    <tr style=\"text-align: right;\">\n",
       "      <th></th>\n",
       "      <th>x0_click_ad_sum</th>\n",
       "    </tr>\n",
       "  </thead>\n",
       "  <tbody>\n",
       "    <tr>\n",
       "      <th>0</th>\n",
       "      <td>6.0</td>\n",
       "    </tr>\n",
       "    <tr>\n",
       "      <th>1</th>\n",
       "      <td>3.0</td>\n",
       "    </tr>\n",
       "    <tr>\n",
       "      <th>2</th>\n",
       "      <td>5.0</td>\n",
       "    </tr>\n",
       "    <tr>\n",
       "      <th>3</th>\n",
       "      <td>2.0</td>\n",
       "    </tr>\n",
       "    <tr>\n",
       "      <th>4</th>\n",
       "      <td>2.0</td>\n",
       "    </tr>\n",
       "  </tbody>\n",
       "</table>\n",
       "</div>"
      ],
      "text/plain": [
       "   x0_click_ad_sum\n",
       "0              6.0\n",
       "1              3.0\n",
       "2              5.0\n",
       "3              2.0\n",
       "4              2.0"
      ]
     },
     "execution_count": 18,
     "metadata": {},
     "output_type": "execute_result"
    }
   ],
   "source": [
    "X1.head()"
   ]
  },
  {
   "cell_type": "markdown",
   "metadata": {},
   "source": [
    "## INSIGHT 2: \"While real users interact with just a small subset of categories in a window time, bots behaviour are not centered into specific categories and interact with a vast majority of them.\""
   ]
  },
  {
   "cell_type": "markdown",
   "metadata": {},
   "source": [
    "Here we will count the uniqueness of `Category` for each user. \n",
    "\n",
    "We can re-use the Transformer `ColumnAggregatorByCategoryAndEvent` but using `nunique` as aggregator"
   ]
  },
  {
   "cell_type": "code",
   "execution_count": 19,
   "metadata": {
    "ExecuteTime": {
     "end_time": "2021-10-18T09:11:42.057644Z",
     "start_time": "2021-10-18T09:11:36.086213Z"
    }
   },
   "outputs": [
    {
     "data": {
      "text/html": [
       "<div>\n",
       "<style scoped>\n",
       "    .dataframe tbody tr th:only-of-type {\n",
       "        vertical-align: middle;\n",
       "    }\n",
       "\n",
       "    .dataframe tbody tr th {\n",
       "        vertical-align: top;\n",
       "    }\n",
       "\n",
       "    .dataframe thead th {\n",
       "        text-align: right;\n",
       "    }\n",
       "</style>\n",
       "<table border=\"1\" class=\"dataframe\">\n",
       "  <thead>\n",
       "    <tr style=\"text-align: right;\">\n",
       "      <th></th>\n",
       "      <th>Category_nunique</th>\n",
       "    </tr>\n",
       "  </thead>\n",
       "  <tbody>\n",
       "    <tr>\n",
       "      <th>0</th>\n",
       "      <td>4</td>\n",
       "    </tr>\n",
       "    <tr>\n",
       "      <th>1</th>\n",
       "      <td>2</td>\n",
       "    </tr>\n",
       "    <tr>\n",
       "      <th>2</th>\n",
       "      <td>4</td>\n",
       "    </tr>\n",
       "    <tr>\n",
       "      <th>3</th>\n",
       "      <td>4</td>\n",
       "    </tr>\n",
       "    <tr>\n",
       "      <th>4</th>\n",
       "      <td>2</td>\n",
       "    </tr>\n",
       "  </tbody>\n",
       "</table>\n",
       "</div>"
      ],
      "text/plain": [
       "   Category_nunique\n",
       "0                 4\n",
       "1                 2\n",
       "2                 4\n",
       "3                 4\n",
       "4                 2"
      ]
     },
     "execution_count": 19,
     "metadata": {},
     "output_type": "execute_result"
    }
   ],
   "source": [
    "nubcav = ColumnAggregatorByCategoryAndEvent(on=['UserId'], aggregators = ['nunique'])\n",
    "X2 = nubcav.fit_transform(df[['UserId', 'Category']])\n",
    "X2.head()"
   ]
  },
  {
   "cell_type": "code",
   "execution_count": 20,
   "metadata": {
    "ExecuteTime": {
     "end_time": "2021-10-18T09:11:42.278098Z",
     "start_time": "2021-10-18T09:11:42.059282Z"
    },
    "scrolled": true
   },
   "outputs": [
    {
     "data": {
      "text/plain": [
       "<matplotlib.axes._subplots.AxesSubplot at 0x7f9b887d7910>"
      ]
     },
     "execution_count": 20,
     "metadata": {},
     "output_type": "execute_result"
    },
    {
     "data": {
      "image/png": "[encoded data removed]",
      "text/plain": [
       "<Figure size 432x288 with 1 Axes>"
      ]
     },
     "metadata": {
      "needs_background": "light"
     },
     "output_type": "display_data"
    }
   ],
   "source": [
    "plt.figure()\n",
    "X2.loc[df['Fake']==0, \"Category_nunique\"].rename('not Fake').plot.hist(legend='not Fake')\n",
    "X2.loc[df['Fake']==1, \"Category_nunique\"].rename('Fake').plot.hist(legend='Fake')"
   ]
  },
  {
   "cell_type": "markdown",
   "metadata": {},
   "source": [
    "As expected, the variable is discriminative : high value for Fake users"
   ]
  },
  {
   "cell_type": "markdown",
   "metadata": {},
   "source": [
    "## INSIGHT 3: \"The distribution of clicks for a given bot tends to be skewed towards clicks like click_ad and send_email, because the former can bias our algorithms and the latter aims to annoy our sellers.\""
   ]
  },
  {
   "cell_type": "markdown",
   "metadata": {},
   "source": [
    "Here we will count the proportions of `click_ad` and `send_email` for each user. \n",
    "\n",
    "Here again, we can use our `ColumnAggregatorByCategoryAndEvent`, using a custom aggregators to compute the two proportions"
   ]
  },
  {
   "cell_type": "code",
   "execution_count": 21,
   "metadata": {
    "ExecuteTime": {
     "end_time": "2021-10-18T09:11:42.282862Z",
     "start_time": "2021-10-18T09:11:42.279554Z"
    }
   },
   "outputs": [],
   "source": [
    "def agg_percentage_click_ad(x):\n",
    "    return x[x == \"click_ad\"].count()/x.count()\n",
    "\n",
    "def agg_percentage_send_email(x):\n",
    "    return x[x == \"send_email\"].count()/x.count()"
   ]
  },
  {
   "cell_type": "code",
   "execution_count": 22,
   "metadata": {
    "ExecuteTime": {
     "end_time": "2021-10-18T09:11:58.617497Z",
     "start_time": "2021-10-18T09:11:42.284091Z"
    }
   },
   "outputs": [
    {
     "data": {
      "text/html": [
       "<div>\n",
       "<style scoped>\n",
       "    .dataframe tbody tr th:only-of-type {\n",
       "        vertical-align: middle;\n",
       "    }\n",
       "\n",
       "    .dataframe tbody tr th {\n",
       "        vertical-align: top;\n",
       "    }\n",
       "\n",
       "    .dataframe thead th {\n",
       "        text-align: right;\n",
       "    }\n",
       "</style>\n",
       "<table border=\"1\" class=\"dataframe\">\n",
       "  <thead>\n",
       "    <tr style=\"text-align: right;\">\n",
       "      <th></th>\n",
       "      <th>Event_&lt;function agg_percentage_click_ad at 0x7f9b89336440&gt;</th>\n",
       "      <th>Event_&lt;function agg_percentage_send_email at 0x7f9b89336560&gt;</th>\n",
       "    </tr>\n",
       "  </thead>\n",
       "  <tbody>\n",
       "    <tr>\n",
       "      <th>0</th>\n",
       "      <td>0.375000</td>\n",
       "      <td>0.1875</td>\n",
       "    </tr>\n",
       "    <tr>\n",
       "      <th>1</th>\n",
       "      <td>0.200000</td>\n",
       "      <td>0.2000</td>\n",
       "    </tr>\n",
       "    <tr>\n",
       "      <th>2</th>\n",
       "      <td>0.250000</td>\n",
       "      <td>0.3000</td>\n",
       "    </tr>\n",
       "    <tr>\n",
       "      <th>3</th>\n",
       "      <td>0.125000</td>\n",
       "      <td>0.2500</td>\n",
       "    </tr>\n",
       "    <tr>\n",
       "      <th>4</th>\n",
       "      <td>0.133333</td>\n",
       "      <td>0.2000</td>\n",
       "    </tr>\n",
       "  </tbody>\n",
       "</table>\n",
       "</div>"
      ],
      "text/plain": [
       "   Event_<function agg_percentage_click_ad at 0x7f9b89336440>  \\\n",
       "0                                           0.375000            \n",
       "1                                           0.200000            \n",
       "2                                           0.250000            \n",
       "3                                           0.125000            \n",
       "4                                           0.133333            \n",
       "\n",
       "   Event_<function agg_percentage_send_email at 0x7f9b89336560>  \n",
       "0                                             0.1875             \n",
       "1                                             0.2000             \n",
       "2                                             0.3000             \n",
       "3                                             0.2500             \n",
       "4                                             0.2000             "
      ]
     },
     "execution_count": 22,
     "metadata": {},
     "output_type": "execute_result"
    }
   ],
   "source": [
    "pcabcav = ColumnAggregatorByCategoryAndEvent(on=['UserId'], aggregators = [agg_percentage_click_ad, agg_percentage_send_email])\n",
    "X3 = pcabcav.fit_transform(df[['UserId', 'Event']])\n",
    "X3.head()"
   ]
  },
  {
   "cell_type": "code",
   "execution_count": 23,
   "metadata": {
    "ExecuteTime": {
     "end_time": "2021-10-18T09:11:58.634710Z",
     "start_time": "2021-10-18T09:11:58.619451Z"
    }
   },
   "outputs": [
    {
     "data": {
      "text/plain": [
       "click_ad           0.3750\n",
       "click_carrousel    0.2500\n",
       "send_email         0.1875\n",
       "phone_call         0.1250\n",
       "send_sms           0.0625\n",
       "Name: Event, dtype: float64"
      ]
     },
     "execution_count": 23,
     "metadata": {},
     "output_type": "execute_result"
    }
   ],
   "source": [
    "# Here again we can perform verification for the first UserId\n",
    "df.loc[df['UserId'] == 'F7A7BF3761', \"Event\"].value_counts(normalize=True)"
   ]
  },
  {
   "cell_type": "code",
   "execution_count": 24,
   "metadata": {
    "ExecuteTime": {
     "end_time": "2021-10-18T09:11:58.870951Z",
     "start_time": "2021-10-18T09:11:58.636480Z"
    }
   },
   "outputs": [
    {
     "data": {
      "text/plain": [
       "<matplotlib.axes._subplots.AxesSubplot at 0x7f9b8808a290>"
      ]
     },
     "execution_count": 24,
     "metadata": {},
     "output_type": "execute_result"
    },
    {
     "data": {
      "image/png": "[encoded data removed]",
      "text/plain": [
       "<Figure size 432x288 with 1 Axes>"
      ]
     },
     "metadata": {
      "needs_background": "light"
     },
     "output_type": "display_data"
    }
   ],
   "source": [
    "plt.figure()\n",
    "col_click_ad = [col for col in X3.columns if 'click_ad' in col][0]\n",
    "X3.loc[df['Fake']==0, col_click_ad].rename('not Fake').plot.hist(legend='not Fake')\n",
    "X3.loc[df['Fake']==1, col_click_ad].rename('Fake').plot.hist(legend='Fake')"
   ]
  },
  {
   "cell_type": "code",
   "execution_count": 25,
   "metadata": {
    "ExecuteTime": {
     "end_time": "2021-10-18T09:11:59.113450Z",
     "start_time": "2021-10-18T09:11:58.874771Z"
    }
   },
   "outputs": [
    {
     "data": {
      "text/plain": [
       "<matplotlib.axes._subplots.AxesSubplot at 0x7f9b89298e90>"
      ]
     },
     "execution_count": 25,
     "metadata": {},
     "output_type": "execute_result"
    },
    {
     "data": {
      "image/png": "[encoded data removed]",
      "text/plain": [
       "<Figure size 432x288 with 1 Axes>"
      ]
     },
     "metadata": {
      "needs_background": "light"
     },
     "output_type": "display_data"
    }
   ],
   "source": [
    "plt.figure()\n",
    "col_send_email = [col for col in X3.columns if 'send_email' in col][0]\n",
    "X3.loc[df['Fake']==0, col_send_email].rename('not Fake').plot.hist(legend='not Fake')\n",
    "X3.loc[df['Fake']==1, col_send_email].rename('Fake').plot.hist(legend='Fake')"
   ]
  },
  {
   "cell_type": "markdown",
   "metadata": {},
   "source": [
    "As expected, there is a high proportion of `click_ad` and `send_email` among fake users"
   ]
  },
  {
   "cell_type": "markdown",
   "metadata": {},
   "source": [
    "# Pipeline"
   ]
  },
  {
   "cell_type": "markdown",
   "metadata": {},
   "source": [
    "Now we can concatenate the 3 dataframes from the 3 insights"
   ]
  },
  {
   "cell_type": "code",
   "execution_count": 26,
   "metadata": {
    "ExecuteTime": {
     "end_time": "2021-10-18T09:11:59.120515Z",
     "start_time": "2021-10-18T09:11:59.115564Z"
    }
   },
   "outputs": [],
   "source": [
    "X = pd.concat([X1, X2, X3], axis=1)"
   ]
  },
  {
   "cell_type": "code",
   "execution_count": 27,
   "metadata": {
    "ExecuteTime": {
     "end_time": "2021-10-18T09:11:59.131640Z",
     "start_time": "2021-10-18T09:11:59.122236Z"
    }
   },
   "outputs": [
    {
     "data": {
      "text/html": [
       "<div>\n",
       "<style scoped>\n",
       "    .dataframe tbody tr th:only-of-type {\n",
       "        vertical-align: middle;\n",
       "    }\n",
       "\n",
       "    .dataframe tbody tr th {\n",
       "        vertical-align: top;\n",
       "    }\n",
       "\n",
       "    .dataframe thead th {\n",
       "        text-align: right;\n",
       "    }\n",
       "</style>\n",
       "<table border=\"1\" class=\"dataframe\">\n",
       "  <thead>\n",
       "    <tr style=\"text-align: right;\">\n",
       "      <th></th>\n",
       "      <th>x0_click_ad_sum</th>\n",
       "      <th>Category_nunique</th>\n",
       "      <th>Event_&lt;function agg_percentage_click_ad at 0x7f9b89336440&gt;</th>\n",
       "      <th>Event_&lt;function agg_percentage_send_email at 0x7f9b89336560&gt;</th>\n",
       "    </tr>\n",
       "  </thead>\n",
       "  <tbody>\n",
       "    <tr>\n",
       "      <th>0</th>\n",
       "      <td>6.0</td>\n",
       "      <td>4</td>\n",
       "      <td>0.375000</td>\n",
       "      <td>0.1875</td>\n",
       "    </tr>\n",
       "    <tr>\n",
       "      <th>1</th>\n",
       "      <td>3.0</td>\n",
       "      <td>2</td>\n",
       "      <td>0.200000</td>\n",
       "      <td>0.2000</td>\n",
       "    </tr>\n",
       "    <tr>\n",
       "      <th>2</th>\n",
       "      <td>5.0</td>\n",
       "      <td>4</td>\n",
       "      <td>0.250000</td>\n",
       "      <td>0.3000</td>\n",
       "    </tr>\n",
       "    <tr>\n",
       "      <th>3</th>\n",
       "      <td>2.0</td>\n",
       "      <td>4</td>\n",
       "      <td>0.125000</td>\n",
       "      <td>0.2500</td>\n",
       "    </tr>\n",
       "    <tr>\n",
       "      <th>4</th>\n",
       "      <td>2.0</td>\n",
       "      <td>2</td>\n",
       "      <td>0.133333</td>\n",
       "      <td>0.2000</td>\n",
       "    </tr>\n",
       "  </tbody>\n",
       "</table>\n",
       "</div>"
      ],
      "text/plain": [
       "   x0_click_ad_sum  Category_nunique  \\\n",
       "0              6.0                 4   \n",
       "1              3.0                 2   \n",
       "2              5.0                 4   \n",
       "3              2.0                 4   \n",
       "4              2.0                 2   \n",
       "\n",
       "   Event_<function agg_percentage_click_ad at 0x7f9b89336440>  \\\n",
       "0                                           0.375000            \n",
       "1                                           0.200000            \n",
       "2                                           0.250000            \n",
       "3                                           0.125000            \n",
       "4                                           0.133333            \n",
       "\n",
       "   Event_<function agg_percentage_send_email at 0x7f9b89336560>  \n",
       "0                                             0.1875             \n",
       "1                                             0.2000             \n",
       "2                                             0.3000             \n",
       "3                                             0.2500             \n",
       "4                                             0.2000             "
      ]
     },
     "execution_count": 27,
     "metadata": {},
     "output_type": "execute_result"
    }
   ],
   "source": [
    "X.head()"
   ]
  },
  {
   "cell_type": "code",
   "execution_count": 28,
   "metadata": {
    "ExecuteTime": {
     "end_time": "2021-10-18T09:11:59.135702Z",
     "start_time": "2021-10-18T09:11:59.133333Z"
    }
   },
   "outputs": [],
   "source": [
    "y = df['Fake']"
   ]
  },
  {
   "cell_type": "markdown",
   "metadata": {},
   "source": [
    "# Model Training"
   ]
  },
  {
   "cell_type": "markdown",
   "metadata": {
    "ExecuteTime": {
     "end_time": "2021-10-17T22:15:20.965585Z",
     "start_time": "2021-10-17T22:15:20.961861Z"
    }
   },
   "source": [
    "Here we will grid search the best params of a light gbm classifier with early stopping.\n",
    "\n",
    "As the number of features is weak, we will carefully choose the parameters to avoid overfitting."
   ]
  },
  {
   "cell_type": "code",
   "execution_count": 29,
   "metadata": {
    "ExecuteTime": {
     "end_time": "2021-10-18T09:11:59.141401Z",
     "start_time": "2021-10-18T09:11:59.137239Z"
    }
   },
   "outputs": [],
   "source": [
    "lgbm = LGBMClassifier(n_estimators=10, n_jobs=4)"
   ]
  },
  {
   "cell_type": "markdown",
   "metadata": {},
   "source": [
    "## train/test split"
   ]
  },
  {
   "cell_type": "code",
   "execution_count": 30,
   "metadata": {
    "ExecuteTime": {
     "end_time": "2021-10-18T09:11:59.155917Z",
     "start_time": "2021-10-18T09:11:59.142748Z"
    }
   },
   "outputs": [],
   "source": [
    "Xtrainval, Xtest, ytrainval, ytest = train_test_split(X, y, test_size=0.2)"
   ]
  },
  {
   "cell_type": "markdown",
   "metadata": {},
   "source": [
    "## Validation Strategy"
   ]
  },
  {
   "cell_type": "code",
   "execution_count": 31,
   "metadata": {
    "ExecuteTime": {
     "end_time": "2021-10-18T09:11:59.159766Z",
     "start_time": "2021-10-18T09:11:59.157282Z"
    }
   },
   "outputs": [],
   "source": [
    "seed=1984\n",
    "vs = StratifiedKFold(n_splits=5, shuffle=True, random_state=seed)"
   ]
  },
  {
   "cell_type": "markdown",
   "metadata": {},
   "source": [
    "## Params grid"
   ]
  },
  {
   "cell_type": "code",
   "execution_count": 32,
   "metadata": {
    "ExecuteTime": {
     "end_time": "2021-10-18T09:11:59.164679Z",
     "start_time": "2021-10-18T09:11:59.161172Z"
    }
   },
   "outputs": [],
   "source": [
    "param_grid = {\n",
    " 'num_leaves': [1000],\n",
    "#  'learning_rate': [0.1],\n",
    "#  'n_estimators': [10],\n",
    "#  'min_child_samples': [10, 20, 30],\n",
    " 'metric': ['binary_logloss'],\n",
    " 'subsample': [0.05, 0.1],\n",
    " 'colsample_bytree': [0.25, 0.5],\n",
    " 'reg_alpha': [1000.0],\n",
    " 'reg_lambda': [1000.0],\n",
    " 'class_weight': ['balanced'],\n",
    " 'max_depth': [1, 2]}"
   ]
  },
  {
   "cell_type": "markdown",
   "metadata": {},
   "source": [
    "## Grid Search\n"
   ]
  },
  {
   "cell_type": "code",
   "execution_count": 33,
   "metadata": {
    "ExecuteTime": {
     "end_time": "2021-10-18T09:11:59.169181Z",
     "start_time": "2021-10-18T09:11:59.166005Z"
    }
   },
   "outputs": [],
   "source": [
    "os.makedirs('./models/', exist_ok=True)"
   ]
  },
  {
   "cell_type": "code",
   "execution_count": 34,
   "metadata": {
    "ExecuteTime": {
     "end_time": "2021-10-18T09:11:59.172734Z",
     "start_time": "2021-10-18T09:11:59.170542Z"
    }
   },
   "outputs": [],
   "source": [
    "n_iters = 10"
   ]
  },
  {
   "cell_type": "code",
   "execution_count": 35,
   "metadata": {
    "ExecuteTime": {
     "end_time": "2021-10-18T09:11:59.176532Z",
     "start_time": "2021-10-18T09:11:59.174115Z"
    }
   },
   "outputs": [],
   "source": [
    "param_samp = ParameterSampler(param_grid, n_iters, random_state=seed)"
   ]
  },
  {
   "cell_type": "code",
   "execution_count": 36,
   "metadata": {
    "ExecuteTime": {
     "end_time": "2021-10-18T09:11:59.181462Z",
     "start_time": "2021-10-18T09:11:59.177920Z"
    }
   },
   "outputs": [],
   "source": [
    "def save_model(model, stats_dict, hash_key):\n",
    "    if os.path.exists('./models/perf_res_dict.joblib'):\n",
    "        d = load('./models/perf_res_dict.joblib')\n",
    "    else:\n",
    "        d = {}\n",
    "    dump(model,'./models/' + str(hash_key)+'.joblib')\n",
    "    d[hash_key] = stats_dict.copy()\n",
    "    dump(d, './models/perf_res_dict.joblib')"
   ]
  },
  {
   "cell_type": "code",
   "execution_count": 37,
   "metadata": {
    "ExecuteTime": {
     "end_time": "2021-10-18T09:12:03.213060Z",
     "start_time": "2021-10-18T09:11:59.182795Z"
    },
    "scrolled": true
   },
   "outputs": [
    {
     "name": "stderr",
     "output_type": "stream",
     "text": [
      "/opt/conda/lib/python3.7/site-packages/sklearn/model_selection/_search.py:281: UserWarning: The total space of parameters 8 is smaller than n_iter=10. Running 8 iterations. For exhaustive searches, use GridSearchCV.\n",
      "  % (grid_size, self.n_iter, grid_size), UserWarning)\n",
      "/opt/conda/lib/python3.7/site-packages/lightgbm/sklearn.py:726: UserWarning: 'early_stopping_rounds' argument is deprecated and will be removed in a future release of LightGBM. Pass 'early_stopping()' callback via 'callbacks' argument instead.\n",
      "  _log_warning(\"'early_stopping_rounds' argument is deprecated and will be removed in a future release of LightGBM. \"\n",
      "/opt/conda/lib/python3.7/site-packages/lightgbm/sklearn.py:736: UserWarning: 'verbose' argument is deprecated and will be removed in a future release of LightGBM. Pass 'log_evaluation()' callback via 'callbacks' argument instead.\n",
      "  _log_warning(\"'verbose' argument is deprecated and will be removed in a future release of LightGBM. \"\n"
     ]
    },
    {
     "name": "stdout",
     "output_type": "stream",
     "text": [
      "{'subsample': 0.05, 'reg_lambda': 1000.0, 'reg_alpha': 1000.0, 'num_leaves': 1000, 'metric': 'binary_logloss', 'max_depth': 1, 'colsample_bytree': 0.25, 'class_weight': 'balanced'}\n",
      "{'subsample': 0.1, 'reg_lambda': 1000.0, 'reg_alpha': 1000.0, 'num_leaves': 1000, 'metric': 'binary_logloss', 'max_depth': 1, 'colsample_bytree': 0.25, 'class_weight': 'balanced'}\n"
     ]
    },
    {
     "name": "stderr",
     "output_type": "stream",
     "text": [
      "/opt/conda/lib/python3.7/site-packages/lightgbm/sklearn.py:726: UserWarning: 'early_stopping_rounds' argument is deprecated and will be removed in a future release of LightGBM. Pass 'early_stopping()' callback via 'callbacks' argument instead.\n",
      "  _log_warning(\"'early_stopping_rounds' argument is deprecated and will be removed in a future release of LightGBM. \"\n",
      "/opt/conda/lib/python3.7/site-packages/lightgbm/sklearn.py:736: UserWarning: 'verbose' argument is deprecated and will be removed in a future release of LightGBM. Pass 'log_evaluation()' callback via 'callbacks' argument instead.\n",
      "  _log_warning(\"'verbose' argument is deprecated and will be removed in a future release of LightGBM. \"\n"
     ]
    },
    {
     "name": "stdout",
     "output_type": "stream",
     "text": [
      "{'subsample': 0.05, 'reg_lambda': 1000.0, 'reg_alpha': 1000.0, 'num_leaves': 1000, 'metric': 'binary_logloss', 'max_depth': 2, 'colsample_bytree': 0.25, 'class_weight': 'balanced'}\n"
     ]
    },
    {
     "name": "stderr",
     "output_type": "stream",
     "text": [
      "/opt/conda/lib/python3.7/site-packages/lightgbm/sklearn.py:726: UserWarning: 'early_stopping_rounds' argument is deprecated and will be removed in a future release of LightGBM. Pass 'early_stopping()' callback via 'callbacks' argument instead.\n",
      "  _log_warning(\"'early_stopping_rounds' argument is deprecated and will be removed in a future release of LightGBM. \"\n",
      "/opt/conda/lib/python3.7/site-packages/lightgbm/sklearn.py:736: UserWarning: 'verbose' argument is deprecated and will be removed in a future release of LightGBM. Pass 'log_evaluation()' callback via 'callbacks' argument instead.\n",
      "  _log_warning(\"'verbose' argument is deprecated and will be removed in a future release of LightGBM. \"\n"
     ]
    },
    {
     "name": "stdout",
     "output_type": "stream",
     "text": [
      "{'subsample': 0.1, 'reg_lambda': 1000.0, 'reg_alpha': 1000.0, 'num_leaves': 1000, 'metric': 'binary_logloss', 'max_depth': 2, 'colsample_bytree': 0.25, 'class_weight': 'balanced'}\n"
     ]
    },
    {
     "name": "stderr",
     "output_type": "stream",
     "text": [
      "/opt/conda/lib/python3.7/site-packages/lightgbm/sklearn.py:726: UserWarning: 'early_stopping_rounds' argument is deprecated and will be removed in a future release of LightGBM. Pass 'early_stopping()' callback via 'callbacks' argument instead.\n",
      "  _log_warning(\"'early_stopping_rounds' argument is deprecated and will be removed in a future release of LightGBM. \"\n",
      "/opt/conda/lib/python3.7/site-packages/lightgbm/sklearn.py:736: UserWarning: 'verbose' argument is deprecated and will be removed in a future release of LightGBM. Pass 'log_evaluation()' callback via 'callbacks' argument instead.\n",
      "  _log_warning(\"'verbose' argument is deprecated and will be removed in a future release of LightGBM. \"\n"
     ]
    },
    {
     "name": "stdout",
     "output_type": "stream",
     "text": [
      "{'subsample': 0.05, 'reg_lambda': 1000.0, 'reg_alpha': 1000.0, 'num_leaves': 1000, 'metric': 'binary_logloss', 'max_depth': 1, 'colsample_bytree': 0.5, 'class_weight': 'balanced'}\n"
     ]
    },
    {
     "name": "stderr",
     "output_type": "stream",
     "text": [
      "/opt/conda/lib/python3.7/site-packages/lightgbm/sklearn.py:726: UserWarning: 'early_stopping_rounds' argument is deprecated and will be removed in a future release of LightGBM. Pass 'early_stopping()' callback via 'callbacks' argument instead.\n",
      "  _log_warning(\"'early_stopping_rounds' argument is deprecated and will be removed in a future release of LightGBM. \"\n",
      "/opt/conda/lib/python3.7/site-packages/lightgbm/sklearn.py:736: UserWarning: 'verbose' argument is deprecated and will be removed in a future release of LightGBM. Pass 'log_evaluation()' callback via 'callbacks' argument instead.\n",
      "  _log_warning(\"'verbose' argument is deprecated and will be removed in a future release of LightGBM. \"\n"
     ]
    },
    {
     "name": "stdout",
     "output_type": "stream",
     "text": [
      "{'subsample': 0.1, 'reg_lambda': 1000.0, 'reg_alpha': 1000.0, 'num_leaves': 1000, 'metric': 'binary_logloss', 'max_depth': 1, 'colsample_bytree': 0.5, 'class_weight': 'balanced'}\n"
     ]
    },
    {
     "name": "stderr",
     "output_type": "stream",
     "text": [
      "/opt/conda/lib/python3.7/site-packages/lightgbm/sklearn.py:726: UserWarning: 'early_stopping_rounds' argument is deprecated and will be removed in a future release of LightGBM. Pass 'early_stopping()' callback via 'callbacks' argument instead.\n",
      "  _log_warning(\"'early_stopping_rounds' argument is deprecated and will be removed in a future release of LightGBM. \"\n",
      "/opt/conda/lib/python3.7/site-packages/lightgbm/sklearn.py:736: UserWarning: 'verbose' argument is deprecated and will be removed in a future release of LightGBM. Pass 'log_evaluation()' callback via 'callbacks' argument instead.\n",
      "  _log_warning(\"'verbose' argument is deprecated and will be removed in a future release of LightGBM. \"\n"
     ]
    },
    {
     "name": "stdout",
     "output_type": "stream",
     "text": [
      "{'subsample': 0.05, 'reg_lambda': 1000.0, 'reg_alpha': 1000.0, 'num_leaves': 1000, 'metric': 'binary_logloss', 'max_depth': 2, 'colsample_bytree': 0.5, 'class_weight': 'balanced'}\n"
     ]
    },
    {
     "name": "stderr",
     "output_type": "stream",
     "text": [
      "/opt/conda/lib/python3.7/site-packages/lightgbm/sklearn.py:726: UserWarning: 'early_stopping_rounds' argument is deprecated and will be removed in a future release of LightGBM. Pass 'early_stopping()' callback via 'callbacks' argument instead.\n",
      "  _log_warning(\"'early_stopping_rounds' argument is deprecated and will be removed in a future release of LightGBM. \"\n",
      "/opt/conda/lib/python3.7/site-packages/lightgbm/sklearn.py:736: UserWarning: 'verbose' argument is deprecated and will be removed in a future release of LightGBM. Pass 'log_evaluation()' callback via 'callbacks' argument instead.\n",
      "  _log_warning(\"'verbose' argument is deprecated and will be removed in a future release of LightGBM. \"\n"
     ]
    },
    {
     "name": "stdout",
     "output_type": "stream",
     "text": [
      "{'subsample': 0.1, 'reg_lambda': 1000.0, 'reg_alpha': 1000.0, 'num_leaves': 1000, 'metric': 'binary_logloss', 'max_depth': 2, 'colsample_bytree': 0.5, 'class_weight': 'balanced'}\n"
     ]
    },
    {
     "name": "stderr",
     "output_type": "stream",
     "text": [
      "/opt/conda/lib/python3.7/site-packages/lightgbm/sklearn.py:726: UserWarning: 'early_stopping_rounds' argument is deprecated and will be removed in a future release of LightGBM. Pass 'early_stopping()' callback via 'callbacks' argument instead.\n",
      "  _log_warning(\"'early_stopping_rounds' argument is deprecated and will be removed in a future release of LightGBM. \"\n",
      "/opt/conda/lib/python3.7/site-packages/lightgbm/sklearn.py:736: UserWarning: 'verbose' argument is deprecated and will be removed in a future release of LightGBM. Pass 'log_evaluation()' callback via 'callbacks' argument instead.\n",
      "  _log_warning(\"'verbose' argument is deprecated and will be removed in a future release of LightGBM. \"\n"
     ]
    }
   ],
   "source": [
    "for par in param_samp:\n",
    "    lgbm.set_params(**par)\n",
    "    print (par)\n",
    "    \n",
    "    perf_dict = {}\n",
    "    best_iter = {}\n",
    "    \n",
    "    for i, (train, val) in enumerate(vs.split(Xtrainval, ytrainval)):\n",
    "        Xtrain, ytrain = Xtrainval.iloc[train,:], ytrainval.iloc[train]\n",
    "        Xval, yval = Xtrainval.iloc[val,:], ytrainval.iloc[val]\n",
    "        var_lgbm = list(Xtrainval.columns)\n",
    "        lgbm.fit(\n",
    "            Xtrain,\n",
    "            ytrain,\n",
    "            eval_set=[(Xval, yval)],\n",
    "            eval_names=['validation'],\n",
    "            eval_metric= 'auc', \n",
    "            early_stopping_rounds = 10,\n",
    "            verbose=100,\n",
    "        )\n",
    "        perf_dict['metric' + str(i)] = lgbm.best_score_['validation']['auc']\n",
    "        best_iter['iter' + str(i)] = lgbm.best_iteration_\n",
    "    \n",
    "    hash_key = str(hash((frozenset(par.items()),frozenset(var_lgbm)))) +  '_lgbm'\n",
    "    perf_dict['mean'] = np.mean(list(perf_dict.values()))\n",
    "    stats = {}\n",
    "    stats.update(par)\n",
    "    stats.update(perf_dict)\n",
    "    stats.update(best_iter)\n",
    "    save_model(lgbm, stats, hash_key)\n",
    "  "
   ]
  },
  {
   "cell_type": "code",
   "execution_count": 38,
   "metadata": {
    "ExecuteTime": {
     "end_time": "2021-10-18T09:12:03.240448Z",
     "start_time": "2021-10-18T09:12:03.215046Z"
    }
   },
   "outputs": [
    {
     "data": {
      "text/html": [
       "<div>\n",
       "<style scoped>\n",
       "    .dataframe tbody tr th:only-of-type {\n",
       "        vertical-align: middle;\n",
       "    }\n",
       "\n",
       "    .dataframe tbody tr th {\n",
       "        vertical-align: top;\n",
       "    }\n",
       "\n",
       "    .dataframe thead th {\n",
       "        text-align: right;\n",
       "    }\n",
       "</style>\n",
       "<table border=\"1\" class=\"dataframe\">\n",
       "  <thead>\n",
       "    <tr style=\"text-align: right;\">\n",
       "      <th></th>\n",
       "      <th>subsample</th>\n",
       "      <th>reg_lambda</th>\n",
       "      <th>reg_alpha</th>\n",
       "      <th>num_leaves</th>\n",
       "      <th>metric</th>\n",
       "      <th>max_depth</th>\n",
       "      <th>colsample_bytree</th>\n",
       "      <th>class_weight</th>\n",
       "      <th>metric0</th>\n",
       "      <th>metric1</th>\n",
       "      <th>metric2</th>\n",
       "      <th>metric3</th>\n",
       "      <th>metric4</th>\n",
       "      <th>mean</th>\n",
       "      <th>iter0</th>\n",
       "      <th>iter1</th>\n",
       "      <th>iter2</th>\n",
       "      <th>iter3</th>\n",
       "      <th>iter4</th>\n",
       "    </tr>\n",
       "  </thead>\n",
       "  <tbody>\n",
       "    <tr>\n",
       "      <th>-4612949262016558317_lgbm</th>\n",
       "      <td>0.05</td>\n",
       "      <td>1000</td>\n",
       "      <td>1000</td>\n",
       "      <td>1000</td>\n",
       "      <td>binary_logloss</td>\n",
       "      <td>1</td>\n",
       "      <td>0.25</td>\n",
       "      <td>balanced</td>\n",
       "      <td>0.999936</td>\n",
       "      <td>0.999913</td>\n",
       "      <td>0.9999</td>\n",
       "      <td>0.999919</td>\n",
       "      <td>0.999899</td>\n",
       "      <td>0.999913</td>\n",
       "      <td>8</td>\n",
       "      <td>4</td>\n",
       "      <td>4</td>\n",
       "      <td>8</td>\n",
       "      <td>8</td>\n",
       "    </tr>\n",
       "    <tr>\n",
       "      <th>-7308004940170867517_lgbm</th>\n",
       "      <td>0.1</td>\n",
       "      <td>1000</td>\n",
       "      <td>1000</td>\n",
       "      <td>1000</td>\n",
       "      <td>binary_logloss</td>\n",
       "      <td>1</td>\n",
       "      <td>0.25</td>\n",
       "      <td>balanced</td>\n",
       "      <td>0.999936</td>\n",
       "      <td>0.999913</td>\n",
       "      <td>0.9999</td>\n",
       "      <td>0.999919</td>\n",
       "      <td>0.999899</td>\n",
       "      <td>0.999913</td>\n",
       "      <td>8</td>\n",
       "      <td>4</td>\n",
       "      <td>4</td>\n",
       "      <td>8</td>\n",
       "      <td>8</td>\n",
       "    </tr>\n",
       "    <tr>\n",
       "      <th>-6668343280794228700_lgbm</th>\n",
       "      <td>0.05</td>\n",
       "      <td>1000</td>\n",
       "      <td>1000</td>\n",
       "      <td>1000</td>\n",
       "      <td>binary_logloss</td>\n",
       "      <td>2</td>\n",
       "      <td>0.25</td>\n",
       "      <td>balanced</td>\n",
       "      <td>0.999946</td>\n",
       "      <td>0.999739</td>\n",
       "      <td>0.999925</td>\n",
       "      <td>0.999935</td>\n",
       "      <td>0.999847</td>\n",
       "      <td>0.999878</td>\n",
       "      <td>8</td>\n",
       "      <td>8</td>\n",
       "      <td>8</td>\n",
       "      <td>8</td>\n",
       "      <td>6</td>\n",
       "    </tr>\n",
       "    <tr>\n",
       "      <th>-2228429013292290380_lgbm</th>\n",
       "      <td>0.1</td>\n",
       "      <td>1000</td>\n",
       "      <td>1000</td>\n",
       "      <td>1000</td>\n",
       "      <td>binary_logloss</td>\n",
       "      <td>2</td>\n",
       "      <td>0.25</td>\n",
       "      <td>balanced</td>\n",
       "      <td>0.999946</td>\n",
       "      <td>0.999739</td>\n",
       "      <td>0.999925</td>\n",
       "      <td>0.999935</td>\n",
       "      <td>0.999847</td>\n",
       "      <td>0.999878</td>\n",
       "      <td>8</td>\n",
       "      <td>8</td>\n",
       "      <td>8</td>\n",
       "      <td>8</td>\n",
       "      <td>6</td>\n",
       "    </tr>\n",
       "    <tr>\n",
       "      <th>7003684120943765540_lgbm</th>\n",
       "      <td>0.05</td>\n",
       "      <td>1000</td>\n",
       "      <td>1000</td>\n",
       "      <td>1000</td>\n",
       "      <td>binary_logloss</td>\n",
       "      <td>2</td>\n",
       "      <td>0.5</td>\n",
       "      <td>balanced</td>\n",
       "      <td>0.9994</td>\n",
       "      <td>0.999167</td>\n",
       "      <td>0.999424</td>\n",
       "      <td>0.999556</td>\n",
       "      <td>0.999412</td>\n",
       "      <td>0.999392</td>\n",
       "      <td>8</td>\n",
       "      <td>8</td>\n",
       "      <td>4</td>\n",
       "      <td>4</td>\n",
       "      <td>8</td>\n",
       "    </tr>\n",
       "    <tr>\n",
       "      <th>-1858909010899898700_lgbm</th>\n",
       "      <td>0.1</td>\n",
       "      <td>1000</td>\n",
       "      <td>1000</td>\n",
       "      <td>1000</td>\n",
       "      <td>binary_logloss</td>\n",
       "      <td>2</td>\n",
       "      <td>0.5</td>\n",
       "      <td>balanced</td>\n",
       "      <td>0.9994</td>\n",
       "      <td>0.999167</td>\n",
       "      <td>0.999424</td>\n",
       "      <td>0.999556</td>\n",
       "      <td>0.999412</td>\n",
       "      <td>0.999392</td>\n",
       "      <td>8</td>\n",
       "      <td>8</td>\n",
       "      <td>4</td>\n",
       "      <td>4</td>\n",
       "      <td>8</td>\n",
       "    </tr>\n",
       "    <tr>\n",
       "      <th>-572413543708996845_lgbm</th>\n",
       "      <td>0.05</td>\n",
       "      <td>1000</td>\n",
       "      <td>1000</td>\n",
       "      <td>1000</td>\n",
       "      <td>binary_logloss</td>\n",
       "      <td>1</td>\n",
       "      <td>0.5</td>\n",
       "      <td>balanced</td>\n",
       "      <td>0.99854</td>\n",
       "      <td>0.998242</td>\n",
       "      <td>0.998476</td>\n",
       "      <td>0.998499</td>\n",
       "      <td>0.998485</td>\n",
       "      <td>0.998448</td>\n",
       "      <td>6</td>\n",
       "      <td>6</td>\n",
       "      <td>5</td>\n",
       "      <td>5</td>\n",
       "      <td>5</td>\n",
       "    </tr>\n",
       "    <tr>\n",
       "      <th>8428037612057447619_lgbm</th>\n",
       "      <td>0.1</td>\n",
       "      <td>1000</td>\n",
       "      <td>1000</td>\n",
       "      <td>1000</td>\n",
       "      <td>binary_logloss</td>\n",
       "      <td>1</td>\n",
       "      <td>0.5</td>\n",
       "      <td>balanced</td>\n",
       "      <td>0.99854</td>\n",
       "      <td>0.998242</td>\n",
       "      <td>0.998476</td>\n",
       "      <td>0.998499</td>\n",
       "      <td>0.998485</td>\n",
       "      <td>0.998448</td>\n",
       "      <td>6</td>\n",
       "      <td>6</td>\n",
       "      <td>5</td>\n",
       "      <td>5</td>\n",
       "      <td>5</td>\n",
       "    </tr>\n",
       "  </tbody>\n",
       "</table>\n",
       "</div>"
      ],
      "text/plain": [
       "                          subsample reg_lambda reg_alpha num_leaves  \\\n",
       "-4612949262016558317_lgbm      0.05       1000      1000       1000   \n",
       "-7308004940170867517_lgbm       0.1       1000      1000       1000   \n",
       "-6668343280794228700_lgbm      0.05       1000      1000       1000   \n",
       "-2228429013292290380_lgbm       0.1       1000      1000       1000   \n",
       "7003684120943765540_lgbm       0.05       1000      1000       1000   \n",
       "-1858909010899898700_lgbm       0.1       1000      1000       1000   \n",
       "-572413543708996845_lgbm       0.05       1000      1000       1000   \n",
       "8428037612057447619_lgbm        0.1       1000      1000       1000   \n",
       "\n",
       "                                   metric max_depth colsample_bytree  \\\n",
       "-4612949262016558317_lgbm  binary_logloss         1             0.25   \n",
       "-7308004940170867517_lgbm  binary_logloss         1             0.25   \n",
       "-6668343280794228700_lgbm  binary_logloss         2             0.25   \n",
       "-2228429013292290380_lgbm  binary_logloss         2             0.25   \n",
       "7003684120943765540_lgbm   binary_logloss         2              0.5   \n",
       "-1858909010899898700_lgbm  binary_logloss         2              0.5   \n",
       "-572413543708996845_lgbm   binary_logloss         1              0.5   \n",
       "8428037612057447619_lgbm   binary_logloss         1              0.5   \n",
       "\n",
       "                          class_weight   metric0   metric1   metric2  \\\n",
       "-4612949262016558317_lgbm     balanced  0.999936  0.999913    0.9999   \n",
       "-7308004940170867517_lgbm     balanced  0.999936  0.999913    0.9999   \n",
       "-6668343280794228700_lgbm     balanced  0.999946  0.999739  0.999925   \n",
       "-2228429013292290380_lgbm     balanced  0.999946  0.999739  0.999925   \n",
       "7003684120943765540_lgbm      balanced    0.9994  0.999167  0.999424   \n",
       "-1858909010899898700_lgbm     balanced    0.9994  0.999167  0.999424   \n",
       "-572413543708996845_lgbm      balanced   0.99854  0.998242  0.998476   \n",
       "8428037612057447619_lgbm      balanced   0.99854  0.998242  0.998476   \n",
       "\n",
       "                            metric3   metric4      mean iter0 iter1 iter2  \\\n",
       "-4612949262016558317_lgbm  0.999919  0.999899  0.999913     8     4     4   \n",
       "-7308004940170867517_lgbm  0.999919  0.999899  0.999913     8     4     4   \n",
       "-6668343280794228700_lgbm  0.999935  0.999847  0.999878     8     8     8   \n",
       "-2228429013292290380_lgbm  0.999935  0.999847  0.999878     8     8     8   \n",
       "7003684120943765540_lgbm   0.999556  0.999412  0.999392     8     8     4   \n",
       "-1858909010899898700_lgbm  0.999556  0.999412  0.999392     8     8     4   \n",
       "-572413543708996845_lgbm   0.998499  0.998485  0.998448     6     6     5   \n",
       "8428037612057447619_lgbm   0.998499  0.998485  0.998448     6     6     5   \n",
       "\n",
       "                          iter3 iter4  \n",
       "-4612949262016558317_lgbm     8     8  \n",
       "-7308004940170867517_lgbm     8     8  \n",
       "-6668343280794228700_lgbm     8     6  \n",
       "-2228429013292290380_lgbm     8     6  \n",
       "7003684120943765540_lgbm      4     8  \n",
       "-1858909010899898700_lgbm     4     8  \n",
       "-572413543708996845_lgbm      5     5  \n",
       "8428037612057447619_lgbm      5     5  "
      ]
     },
     "execution_count": 38,
     "metadata": {},
     "output_type": "execute_result"
    }
   ],
   "source": [
    "perfs = load('./models/perf_res_dict.joblib')\n",
    "perfs = pd.DataFrame(perfs).T.sort_values('mean', ascending=False)\n",
    "perfs"
   ]
  },
  {
   "cell_type": "markdown",
   "metadata": {},
   "source": [
    "Load best model for further predictions"
   ]
  },
  {
   "cell_type": "code",
   "execution_count": 39,
   "metadata": {
    "ExecuteTime": {
     "end_time": "2021-10-18T09:12:03.246492Z",
     "start_time": "2021-10-18T09:12:03.241829Z"
    }
   },
   "outputs": [],
   "source": [
    "hash_best_model = perfs.index[0]\n",
    "lgbm_best = load('./models/' + hash_best_model + '.joblib')"
   ]
  },
  {
   "cell_type": "markdown",
   "metadata": {},
   "source": [
    "# Holdout"
   ]
  },
  {
   "cell_type": "code",
   "execution_count": 40,
   "metadata": {
    "ExecuteTime": {
     "end_time": "2021-10-18T09:12:03.253738Z",
     "start_time": "2021-10-18T09:12:03.247860Z"
    }
   },
   "outputs": [],
   "source": [
    "df_ho = pd.read_csv('fake_users_test.csv')"
   ]
  },
  {
   "cell_type": "markdown",
   "metadata": {},
   "source": [
    "## INSIGHT 1"
   ]
  },
  {
   "cell_type": "code",
   "execution_count": 41,
   "metadata": {
    "ExecuteTime": {
     "end_time": "2021-10-18T09:12:03.275747Z",
     "start_time": "2021-10-18T09:12:03.255231Z"
    }
   },
   "outputs": [],
   "source": [
    "df_ohe_ho = onehotencoder.transform(df_ho[['Event', 'Category']])\n",
    "X1_ho = cabcav.fit_transform(pd.concat([df_ho[['UserId']], df_ohe_ho[clicks_cols]], axis=1))"
   ]
  },
  {
   "cell_type": "code",
   "execution_count": 42,
   "metadata": {
    "ExecuteTime": {
     "end_time": "2021-10-18T09:12:03.280207Z",
     "start_time": "2021-10-18T09:12:03.277093Z"
    }
   },
   "outputs": [],
   "source": [
    "X1_ho.drop(['x0_click_carrousel_sum'], inplace=True, axis=1)"
   ]
  },
  {
   "cell_type": "markdown",
   "metadata": {},
   "source": [
    "## INSIGHT 2"
   ]
  },
  {
   "cell_type": "code",
   "execution_count": 43,
   "metadata": {
    "ExecuteTime": {
     "end_time": "2021-10-18T09:12:03.455601Z",
     "start_time": "2021-10-18T09:12:03.281515Z"
    }
   },
   "outputs": [],
   "source": [
    "X2_ho = nubcav.fit_transform(df_ho[['UserId', 'Category']])"
   ]
  },
  {
   "cell_type": "markdown",
   "metadata": {},
   "source": [
    "## INSIGHT 3"
   ]
  },
  {
   "cell_type": "code",
   "execution_count": 44,
   "metadata": {
    "ExecuteTime": {
     "end_time": "2021-10-18T09:12:03.924057Z",
     "start_time": "2021-10-18T09:12:03.457237Z"
    }
   },
   "outputs": [],
   "source": [
    "X3_ho = pcabcav.fit_transform(df_ho[['UserId', 'Event']])"
   ]
  },
  {
   "cell_type": "markdown",
   "metadata": {},
   "source": [
    "## Predictions"
   ]
  },
  {
   "cell_type": "markdown",
   "metadata": {},
   "source": [
    "We load the test to compute predictions and accuracy"
   ]
  },
  {
   "cell_type": "code",
   "execution_count": 45,
   "metadata": {
    "ExecuteTime": {
     "end_time": "2021-10-18T09:12:03.929419Z",
     "start_time": "2021-10-18T09:12:03.925753Z"
    }
   },
   "outputs": [],
   "source": [
    "X_ho = pd.concat([X1_ho, X2_ho, X3_ho], axis=1)"
   ]
  },
  {
   "cell_type": "code",
   "execution_count": 46,
   "metadata": {
    "ExecuteTime": {
     "end_time": "2021-10-18T09:12:03.938930Z",
     "start_time": "2021-10-18T09:12:03.930751Z"
    }
   },
   "outputs": [],
   "source": [
    "df_ho['pred'] = lgbm_best.predict(X_ho)"
   ]
  },
  {
   "cell_type": "code",
   "execution_count": 47,
   "metadata": {
    "ExecuteTime": {
     "end_time": "2021-10-18T09:12:03.944865Z",
     "start_time": "2021-10-18T09:12:03.940195Z"
    }
   },
   "outputs": [
    {
     "data": {
      "text/plain": [
       "1.0"
      ]
     },
     "execution_count": 47,
     "metadata": {},
     "output_type": "execute_result"
    }
   ],
   "source": [
    "accuracy_score(df_ho['Fake'], df_ho['pred'])"
   ]
  }
 ],
 "metadata": {
  "kernelspec": {
   "display_name": "Python 3",
   "language": "python",
   "name": "python3"
  },
  "language_info": {
   "codemirror_mode": {
    "name": "ipython",
    "version": 3
   },
   "file_extension": ".py",
   "mimetype": "text/x-python",
   "name": "python",
   "nbconvert_exporter": "python",
   "pygments_lexer": "ipython3",
   "version": "3.7.6"
  },
  "toc": {
   "base_numbering": 1,
   "nav_menu": {},
   "number_sections": true,
   "sideBar": true,
   "skip_h1_title": false,
   "title_cell": "Table of Contents",
   "title_sidebar": "Contents",
   "toc_cell": false,
   "toc_position": {},
   "toc_section_display": true,
   "toc_window_display": false
  }
 },
 "nbformat": 4,
 "nbformat_minor": 5
}
